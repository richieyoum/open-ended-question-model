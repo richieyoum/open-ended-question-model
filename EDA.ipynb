{
 "metadata": {
  "language_info": {
   "codemirror_mode": {
    "name": "ipython",
    "version": 3
   },
   "file_extension": ".py",
   "mimetype": "text/x-python",
   "name": "python",
   "nbconvert_exporter": "python",
   "pygments_lexer": "ipython3",
   "version": "3.8.8"
  },
  "orig_nbformat": 2,
  "kernelspec": {
   "name": "python388jvsc74a57bd07e88889c71e94c4846988993b82c60ae1b3ab6426f6e9051fe3fa453b94773b4",
   "display_name": "Python 3.8.8 64-bit ('crispto': conda)"
  }
 },
 "nbformat": 4,
 "nbformat_minor": 2,
 "cells": [
  {
   "source": [
    "# Amazon Q/A data\n",
    "\n",
    "src: http://jmcauley.ucsd.edu/data/amazon/qa/\n",
    "\n",
    "## Dataset contains the following features:\n",
    "\n",
    "    asin - ID of the product, e.g. B000050B6Z\n",
    "    questionType - type of question. Could be 'yes/no' or 'open-ended'\n",
    "    answerType - type of answer. Could be 'Y', 'N', or '?' (if the polarity of the answer could not be predicted). Only present for yes/no questions.\n",
    "    answerTime - raw answer timestamp\n",
    "    unixTime - answer timestamp converted to unix time\n",
    "    question - question text\n",
    "    answer - answer text"
   ],
   "cell_type": "markdown",
   "metadata": {}
  },
  {
   "source": [
    "# Load downloaded amazon data for analysis\n",
    "\n",
    "I downloaded appliances, cellphones & accessories, electronics, office products, software, and tools & home improvement data. These categories seemed to me more generalizable in other domains."
   ],
   "cell_type": "markdown",
   "metadata": {}
  },
  {
   "cell_type": "code",
   "execution_count": 1,
   "metadata": {},
   "outputs": [],
   "source": [
    "import pandas as pd\n",
    "import gzip\n",
    "import os\n",
    "\n",
    "def parse(path):\n",
    "  g = gzip.open(path, 'rb')\n",
    "  for l in g:\n",
    "    yield eval(l)\n",
    "\n",
    "def getDF(path):\n",
    "  i = 0\n",
    "  df = {}\n",
    "  for d in parse(path):\n",
    "    df[i] = d\n",
    "    i += 1\n",
    "  return pd.DataFrame.from_dict(df, orient='index')\n",
    "\n",
    "dfs = []\n",
    "for root, _, files in os.walk('./data'):\n",
    "    for f in files:\n",
    "        dfs.append(getDF(os.path.join(root, f)))\n",
    "\n",
    "df_all = pd.concat(dfs)\n",
    "df_all['question_len'] = df_all.question.apply(len)\n",
    "\n",
    "# split into open ended and close ended\n",
    "open_ended = df_all[df_all['questionType']=='open-ended'].reset_index(drop=True)\n",
    "close_ended = df_all[df_all['questionType']=='yes/no'].reset_index(drop=True)"
   ]
  },
  {
   "cell_type": "code",
   "execution_count": 2,
   "metadata": {},
   "outputs": [
    {
     "output_type": "execute_result",
     "data": {
      "text/plain": [
       "       questionType        asin    answerTime      unixTime  \\\n",
       "0            yes/no  1466736038   Mar 8, 2014  1.394266e+09   \n",
       "1        open-ended  1466736038   Aug 4, 2014  1.407136e+09   \n",
       "2            yes/no  1466736038  Jan 29, 2015  1.422518e+09   \n",
       "3            yes/no  1466736038  Nov 30, 2014  1.417334e+09   \n",
       "4            yes/no  1466736038  Nov 24, 2014  1.416816e+09   \n",
       "...             ...         ...           ...           ...   \n",
       "314258       yes/no  BT008UKTMW  Feb 20, 2015  1.424419e+09   \n",
       "314259       yes/no  BT008UKTMW  Oct 13, 2014  1.413184e+09   \n",
       "314260       yes/no  BT008UKTMW  Feb 26, 2014  1.393402e+09   \n",
       "314261   open-ended  BT008UKTMW   Nov 8, 2013  1.383898e+09   \n",
       "314262       yes/no  BT008UKTMW  Nov 27, 2013  1.385539e+09   \n",
       "\n",
       "                                                 question answerType  \\\n",
       "0                              Is there a SIM card in it?          Y   \n",
       "1       Why hasnt it upgraded to latest Android OS 4.4...        NaN   \n",
       "2       Is this phone new, with 1 year manufacture war...          ?   \n",
       "3       can in it be used abroad with a different carr...          Y   \n",
       "4                 Is this phone brand new and NOT a mini?          ?   \n",
       "...                                                   ...        ...   \n",
       "314258  Is the space from bottom of desktop to tray ad...          N   \n",
       "314259  can the mouse extension be mounted on the LEFT...          Y   \n",
       "314260                 does it come with all the hardware          Y   \n",
       "314261  how wide is it? I need a 19 inch length tray f...        NaN   \n",
       "314262  Can this be adapted to be clamped underneath a...          N   \n",
       "\n",
       "                                                   answer  question_len  \n",
       "0       Yes. The Galaxy SIII accommodates a micro SIM ...            26  \n",
       "1       My S3 was able to upgrade to 4.4.2 last week, ...            99  \n",
       "2       It is new but I was not able to get it activat...            52  \n",
       "3                                                     Yes            50  \n",
       "4       The phone we received was exactly as described...            39  \n",
       "...                                                   ...           ...  \n",
       "314258                                                 No            81  \n",
       "314259    yes, you can put it on which ever side you want            51  \n",
       "314260  It's been a while since I bought this, but I'm...            34  \n",
       "314261  We just measured the tray and it is 21 inches ...            63  \n",
       "314262                                 I do not think so.            91  \n",
       "\n",
       "[564471 rows x 8 columns]"
      ],
      "text/html": "<div>\n<style scoped>\n    .dataframe tbody tr th:only-of-type {\n        vertical-align: middle;\n    }\n\n    .dataframe tbody tr th {\n        vertical-align: top;\n    }\n\n    .dataframe thead th {\n        text-align: right;\n    }\n</style>\n<table border=\"1\" class=\"dataframe\">\n  <thead>\n    <tr style=\"text-align: right;\">\n      <th></th>\n      <th>questionType</th>\n      <th>asin</th>\n      <th>answerTime</th>\n      <th>unixTime</th>\n      <th>question</th>\n      <th>answerType</th>\n      <th>answer</th>\n      <th>question_len</th>\n    </tr>\n  </thead>\n  <tbody>\n    <tr>\n      <th>0</th>\n      <td>yes/no</td>\n      <td>1466736038</td>\n      <td>Mar 8, 2014</td>\n      <td>1.394266e+09</td>\n      <td>Is there a SIM card in it?</td>\n      <td>Y</td>\n      <td>Yes. The Galaxy SIII accommodates a micro SIM ...</td>\n      <td>26</td>\n    </tr>\n    <tr>\n      <th>1</th>\n      <td>open-ended</td>\n      <td>1466736038</td>\n      <td>Aug 4, 2014</td>\n      <td>1.407136e+09</td>\n      <td>Why hasnt it upgraded to latest Android OS 4.4...</td>\n      <td>NaN</td>\n      <td>My S3 was able to upgrade to 4.4.2 last week, ...</td>\n      <td>99</td>\n    </tr>\n    <tr>\n      <th>2</th>\n      <td>yes/no</td>\n      <td>1466736038</td>\n      <td>Jan 29, 2015</td>\n      <td>1.422518e+09</td>\n      <td>Is this phone new, with 1 year manufacture war...</td>\n      <td>?</td>\n      <td>It is new but I was not able to get it activat...</td>\n      <td>52</td>\n    </tr>\n    <tr>\n      <th>3</th>\n      <td>yes/no</td>\n      <td>1466736038</td>\n      <td>Nov 30, 2014</td>\n      <td>1.417334e+09</td>\n      <td>can in it be used abroad with a different carr...</td>\n      <td>Y</td>\n      <td>Yes</td>\n      <td>50</td>\n    </tr>\n    <tr>\n      <th>4</th>\n      <td>yes/no</td>\n      <td>1466736038</td>\n      <td>Nov 24, 2014</td>\n      <td>1.416816e+09</td>\n      <td>Is this phone brand new and NOT a mini?</td>\n      <td>?</td>\n      <td>The phone we received was exactly as described...</td>\n      <td>39</td>\n    </tr>\n    <tr>\n      <th>...</th>\n      <td>...</td>\n      <td>...</td>\n      <td>...</td>\n      <td>...</td>\n      <td>...</td>\n      <td>...</td>\n      <td>...</td>\n      <td>...</td>\n    </tr>\n    <tr>\n      <th>314258</th>\n      <td>yes/no</td>\n      <td>BT008UKTMW</td>\n      <td>Feb 20, 2015</td>\n      <td>1.424419e+09</td>\n      <td>Is the space from bottom of desktop to tray ad...</td>\n      <td>N</td>\n      <td>No</td>\n      <td>81</td>\n    </tr>\n    <tr>\n      <th>314259</th>\n      <td>yes/no</td>\n      <td>BT008UKTMW</td>\n      <td>Oct 13, 2014</td>\n      <td>1.413184e+09</td>\n      <td>can the mouse extension be mounted on the LEFT...</td>\n      <td>Y</td>\n      <td>yes, you can put it on which ever side you want</td>\n      <td>51</td>\n    </tr>\n    <tr>\n      <th>314260</th>\n      <td>yes/no</td>\n      <td>BT008UKTMW</td>\n      <td>Feb 26, 2014</td>\n      <td>1.393402e+09</td>\n      <td>does it come with all the hardware</td>\n      <td>Y</td>\n      <td>It's been a while since I bought this, but I'm...</td>\n      <td>34</td>\n    </tr>\n    <tr>\n      <th>314261</th>\n      <td>open-ended</td>\n      <td>BT008UKTMW</td>\n      <td>Nov 8, 2013</td>\n      <td>1.383898e+09</td>\n      <td>how wide is it? I need a 19 inch length tray f...</td>\n      <td>NaN</td>\n      <td>We just measured the tray and it is 21 inches ...</td>\n      <td>63</td>\n    </tr>\n    <tr>\n      <th>314262</th>\n      <td>yes/no</td>\n      <td>BT008UKTMW</td>\n      <td>Nov 27, 2013</td>\n      <td>1.385539e+09</td>\n      <td>Can this be adapted to be clamped underneath a...</td>\n      <td>N</td>\n      <td>I do not think so.</td>\n      <td>91</td>\n    </tr>\n  </tbody>\n</table>\n<p>564471 rows × 8 columns</p>\n</div>"
     },
     "metadata": {},
     "execution_count": 2
    }
   ],
   "source": [
    "df_all"
   ]
  },
  {
   "source": [
    "## Data quality check"
   ],
   "cell_type": "markdown",
   "metadata": {}
  },
  {
   "cell_type": "code",
   "execution_count": 3,
   "metadata": {},
   "outputs": [
    {
     "output_type": "execute_result",
     "data": {
      "text/plain": [
       "questionType         0\n",
       "asin                 0\n",
       "answerTime           0\n",
       "unixTime         17577\n",
       "question             0\n",
       "answerType      272006\n",
       "answer               0\n",
       "question_len         0\n",
       "dtype: int64"
      ]
     },
     "metadata": {},
     "execution_count": 3
    }
   ],
   "source": [
    "# unixTime and answerType aren't necessary so it's fine for them to have NA.\n",
    "df_all.isna().sum()"
   ]
  },
  {
   "cell_type": "code",
   "execution_count": 4,
   "metadata": {},
   "outputs": [
    {
     "output_type": "execute_result",
     "data": {
      "text/plain": [
       "yes/no        292465\n",
       "open-ended    272006\n",
       "Name: questionType, dtype: int64"
      ]
     },
     "metadata": {},
     "execution_count": 4
    }
   ],
   "source": [
    "# class is well balanced\n",
    "df_all.questionType.value_counts()"
   ]
  },
  {
   "source": [
    "Checking question length. They're relatively short, but some seem a bit too short!"
   ],
   "cell_type": "markdown",
   "metadata": {}
  },
  {
   "cell_type": "code",
   "execution_count": 5,
   "metadata": {},
   "outputs": [
    {
     "output_type": "execute_result",
     "data": {
      "text/plain": [
       "count    564471.000000\n",
       "mean         72.184810\n",
       "std          42.718118\n",
       "min           1.000000\n",
       "25%          38.000000\n",
       "50%          60.000000\n",
       "75%         102.000000\n",
       "max         293.000000\n",
       "Name: question, dtype: float64"
      ]
     },
     "metadata": {},
     "execution_count": 5
    }
   ],
   "source": [
    "df_all.question.apply(len).describe()"
   ]
  },
  {
   "source": [
    "choosing 10 ~ 15 as the arbitrary filter for text length for comparison"
   ],
   "cell_type": "markdown",
   "metadata": {}
  },
  {
   "cell_type": "code",
   "execution_count": 6,
   "metadata": {},
   "outputs": [
    {
     "output_type": "execute_result",
     "data": {
      "text/plain": [
       "array(['can I text', 'is it 4g', 'is it good', 'Is it 4G?', 'Is it GSM',\n",
       "       'is it 3g?', 'is it a 4g', 'have wifi?', 'have flash',\n",
       "       'is this 4g', 'is gsm', 'Is it 3g ?', 'Is GSM?', 'is it 4G?',\n",
       "       'is it GSM?', 'is it real', 'have gps', 'is it 3g', 'is this 3g',\n",
       "       'is android', 'is gsm?', 'is it free', 'is unloock', 'has wifi?',\n",
       "       'Has wi fi?', 'has flash?', 'is it ios7', 'IS WHITE?', 'is cdma?',\n",
       "       'IS IT NEW?', 'is GSM?', 'is FHD?', 'is it 3G?', 'is GSM??',\n",
       "       'is it soft', 'is unlock?', 'is it slim', 'is it flat',\n",
       "       'Is it Y1?', 'is it led', 'Is it m33?', 'Is it UL', 'Is it LED?',\n",
       "       'Is it tang', 'Is it 7.5v', 'is it 110?', 'Is it 110V',\n",
       "       'is it loud', 'Do I Dare?', 'Is it fun?', 'is it 44mm',\n",
       "       'can i scan', 'can it fax', 'Can it fax', 'can u fax',\n",
       "       'is duplex?', 'IS NTSC?', 'is it 5m', 'is it PCI?', 'Is it loud',\n",
       "       'is pair?', 'can I edit', 'Is it 3D?', 'Is it fast', 'is this v4',\n",
       "       'is it hd', 'Is It PTZ?', 'Is a HD?', 'have USB?', 'is it new?',\n",
       "       'is a pair?', 'has wifi', 'is it wifi', 'Is it ATX', 'Is it real',\n",
       "       'have audio', 'is it fast', 'Is it new?', 'Is wi fi?',\n",
       "       'Is this tv', 'Have WIFI?', 'is it OEM?', 'is it slow',\n",
       "       'is this 4G', 'Is new?', 'Is it good', 'have dvd?', 'Is it atx?',\n",
       "       'is it VESA', 'can I skye', 'Is it PAL?', 'Is it HD?', 'am radio',\n",
       "       'is ipad3', 'is Touch?', 'Is it slow', 'Is it 568b', 'is ti 3d?',\n",
       "       'Is it 480p', 'is it 8gb?'], dtype=object)"
      ]
     },
     "metadata": {},
     "execution_count": 6
    }
   ],
   "source": [
    "close_ended[close_ended['question_len']<=10].question.unique()"
   ]
  },
  {
   "source": [
    "I don't like these short open ended questions, since they would hinder generalizablility of the model (ie- classifying 'iphone' as an open ended question! I'd need to consider cases when given sentence not a question). Thus I will filter them away during preprocessing..\n",
    "\n",
    "On the other hand, close ended (our negative class) looks ok even when they're pretty short. Hence I'll keep it as is."
   ],
   "cell_type": "markdown",
   "metadata": {}
  },
  {
   "cell_type": "code",
   "execution_count": 7,
   "metadata": {},
   "outputs": [
    {
     "output_type": "execute_result",
     "data": {
      "text/plain": [
       "array(['iphone', 'motorola?', 'Size', 'how big is it?', 'parts', 'Music',\n",
       "       'w260g', 'WAT color ?', 'htc one', 'Note 3', 'iphone 5 fit?',\n",
       "       'real or fake?', 'music', 'HOW LONG IS IT', 'caller id', 'ipad',\n",
       "       'a2dp', 'USA Version?', 'gps', 'How long is it?'], dtype=object)"
      ]
     },
     "metadata": {},
     "execution_count": 7
    }
   ],
   "source": [
    "open_ended[open_ended['question_len']<=15].question.unique()[:20]"
   ]
  },
  {
   "cell_type": "code",
   "execution_count": null,
   "metadata": {},
   "outputs": [],
   "source": []
  }
 ]
}